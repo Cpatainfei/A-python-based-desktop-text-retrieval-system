{
 "cells": [
  {
   "cell_type": "markdown",
   "metadata": {},
   "source": [
    "## BM25 Ranking"
   ]
  },
  {
   "cell_type": "code",
   "execution_count": 16,
   "metadata": {},
   "outputs": [],
   "source": [
    "# Load query and documents\n",
    "\n",
    "import json\n",
    "\n",
    "\n",
    "with open(\"queries\",'r') as file:\n",
    "    query_dic = json.load(file)\n",
    "\n",
    "with open(\"documents\",\"r\") as file:\n",
    "    document_dic = json.load(file)\n",
    "    \n",
    "with open(\"Inverted_index\",\"r\") as file:\n",
    "    Inverted_index = json.load(file)\n",
    "\n",
    "with open(\"vocabulary\",\"r\") as file:\n",
    "    vocabulary = file.readline()\n",
    "    vocabulary = vocabulary.split(\" \")"
   ]
  },
  {
   "cell_type": "code",
   "execution_count": 22,
   "metadata": {},
   "outputs": [],
   "source": [
    "Query = query_dic.values()\n",
    "Documents = document_dic.values()"
   ]
  },
  {
   "cell_type": "code",
   "execution_count": 17,
   "metadata": {},
   "outputs": [],
   "source": [
    "# Compute frequency\n",
    "\n",
    "def get_freq(query,document_id):\n",
    "    \n",
    "    doc = document_dic[document_id]  \n",
    "    c = list(doc).count(query)\n",
    "    freq = c/len(doc)\n",
    "    \n",
    "    return freq"
   ]
  },
  {
   "cell_type": "code",
   "execution_count": 18,
   "metadata": {},
   "outputs": [],
   "source": [
    "def get_average(doc_dic):\n",
    "    \n",
    "    l = []\n",
    "    for i in doc_dic.values():\n",
    "        l.append(len(i))\n",
    "    av = sum(l)/len(l)\n",
    "    \n",
    "    return av"
   ]
  },
  {
   "cell_type": "code",
   "execution_count": 19,
   "metadata": {},
   "outputs": [],
   "source": [
    "# Assume that r = R = 0\n",
    "\n",
    "R = 0\n",
    "k1 = 1.2\n",
    "b = 0.75\n",
    "\n",
    "\n",
    "def score_bm25(n,f,r,N,dl,avdl):\n",
    "    \n",
    "    w_rsj = log( ( (r + 0.5) / (R - r + 0.5) ) / ( (n - r + 0.5) / (N - n - R + r + 0.5)) )\n",
    "    B = (1-b) + b*dl/avdl\n",
    "    r = (f / (k1* B + f)) * w_rsj\n",
    "    \n",
    "    return r"
   ]
  },
  {
   "cell_type": "code",
   "execution_count": 20,
   "metadata": {},
   "outputs": [],
   "source": [
    "# BM25 ranking\n",
    "\n",
    "def bm25(query):\n",
    "    \n",
    "    result = {}\n",
    "    \n",
    "    for token in query:\n",
    "        if token in Inverted_index:\n",
    "            # Get posting list\n",
    "            documents = Inverted_index[token]\n",
    "            for doc in documents:\n",
    "                freq = get_freq(token,document)\n",
    "                N =len(document_dic.keys())\n",
    "                dl = len(document_dic[doc])\n",
    "                avdl = get_average(document_dic)\n",
    "                r = 0\n",
    "                # get bm25 ranking score\n",
    "                socre = bm25_score(len(documents),freq,r,N,dl,avdl)\n",
    "                # this document has been socred by other queries\n",
    "                if doc in result.keys():\n",
    "                    result[doc] += socre\n",
    "                else:\n",
    "                    result[doc] = score\n",
    "                    \n",
    "    return result\n",
    "        "
   ]
  },
  {
   "cell_type": "code",
   "execution_count": 2,
   "metadata": {},
   "outputs": [
    {
     "ename": "SyntaxError",
     "evalue": "unexpected EOF while parsing (<ipython-input-2-d8c951c2254b>, line 10)",
     "output_type": "error",
     "traceback": [
      "\u001b[1;36m  File \u001b[1;32m\"<ipython-input-2-d8c951c2254b>\"\u001b[1;36m, line \u001b[1;32m10\u001b[0m\n\u001b[1;33m    \u001b[0m\n\u001b[1;37m    ^\u001b[0m\n\u001b[1;31mSyntaxError\u001b[0m\u001b[1;31m:\u001b[0m unexpected EOF while parsing\n"
     ]
    }
   ],
   "source": [
    "# Output to result file\n",
    "\n",
    "with open (result_bm25.txt,\"w\") as file:\n",
    "    for q in query.dic.item():\n",
    "        id = q[0]\n",
    "        query = q[1]\n",
    "        rank = bm25(query)\n",
    "        for r in rank.items():\n",
    "    \n",
    "    "
   ]
  },
  {
   "cell_type": "code",
   "execution_count": null,
   "metadata": {},
   "outputs": [],
   "source": []
  },
  {
   "cell_type": "code",
   "execution_count": null,
   "metadata": {},
   "outputs": [],
   "source": []
  }
 ],
 "metadata": {
  "kernelspec": {
   "display_name": "Python 3",
   "language": "python",
   "name": "python3"
  },
  "language_info": {
   "codemirror_mode": {
    "name": "ipython",
    "version": 3
   },
   "file_extension": ".py",
   "mimetype": "text/x-python",
   "name": "python",
   "nbconvert_exporter": "python",
   "pygments_lexer": "ipython3",
   "version": "3.8.3"
  }
 },
 "nbformat": 4,
 "nbformat_minor": 4
}
