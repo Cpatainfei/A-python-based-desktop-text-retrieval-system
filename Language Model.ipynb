{
 "cells": [
  {
   "cell_type": "markdown",
   "metadata": {},
   "source": [
    "# Multinomial Language Model"
   ]
  },
  {
   "cell_type": "code",
   "execution_count": null,
   "metadata": {},
   "outputs": [],
   "source": [
    "# Load query and documents, inverted index and vocabulary\n",
    "\n",
    "import json\n",
    "import math\n",
    "import time\n",
    "\n",
    "with open(\"queries\",'r') as file:\n",
    "    query_dic = json.load(file)\n",
    "\n",
    "with open(\"documents\",\"r\") as file:\n",
    "    document_dic = json.load(file)\n",
    "    \n",
    "with open(\"Inverted_index\",\"r\") as file:\n",
    "    Inverted_index = json.load(file)\n",
    "\n",
    "with open(\"vocabulary\",\"r\") as file:\n",
    "    vocabulary = file.readline()\n",
    "    vocabulary = vocabulary.split(\" \")"
   ]
  },
  {
   "cell_type": "code",
   "execution_count": null,
   "metadata": {},
   "outputs": [],
   "source": [
    "# Find documents that contain the whole query:\n",
    "\n",
    "def find_documents(tokens):\n",
    "\n",
    "    Intersection = []\n",
    "    \n",
    "    for i in tokens:\n",
    "        \n",
    "        # If token was in the index\n",
    "        \n",
    "        if i in Inverted_index.keys():\n",
    "            \n",
    "            posting_list = Inverted_index[i]\n",
    "            Intersection.append(posting_list)\n",
    "                \n",
    "    #intersection between relavent documents\n",
    "\n",
    "    lst = set(Intersection[0])\n",
    "\n",
    "    for i in range(len(Intersection)):\n",
    "\n",
    "        lst = set(Intersection[i])&lst\n",
    "\n",
    "    Intersection = list(lst)\n",
    "    \n",
    "    return Intersection\n",
    "        "
   ]
  },
  {
   "cell_type": "code",
   "execution_count": null,
   "metadata": {},
   "outputs": [],
   "source": [
    "# compute the individual probability (defined by tf)\n",
    "\n",
    "def get_freq(token,document):\n",
    "    \n",
    "    n = list(document).count(token)\n",
    "    f = n/len(document)\n",
    "    \n",
    "    return f"
   ]
  },
  {
   "cell_type": "code",
   "execution_count": null,
   "metadata": {},
   "outputs": [],
   "source": [
    "def lm(query):\n",
    "    \n",
    "    result = {}\n",
    "    \n",
    "    documents = find_documents(query)\n",
    "    \n",
    "    for d in documents:\n",
    "        # probability to generate the query\n",
    "        pq = 1\n",
    "        doc = document_dic[d]\n",
    "        for q in query:\n",
    "            pqi = get_freq(q,doc)\n",
    "            pq = pq*pqi\n",
    "        pd = pq\n",
    "        result[d] = pd\n",
    "        \n",
    "    return result"
   ]
  },
  {
   "cell_type": "code",
   "execution_count": null,
   "metadata": {},
   "outputs": [],
   "source": [
    "# Rank all the documents \n",
    "\n",
    "def ranking(scores):\n",
    "\n",
    "    #scores = cosine_sim(query)\n",
    "    rank = sorted(scores.items(), key=lambda x:x[1],reverse=True)\n",
    "    \n",
    "    return rank"
   ]
  },
  {
   "cell_type": "code",
   "execution_count": null,
   "metadata": {},
   "outputs": [],
   "source": [
    "# Output to the result file:\n",
    "\n",
    "with open(\"output/result_lm.txt\",\"w\") as file:\n",
    "    for q in query_dic.items():\n",
    "        query_id = q[0]\n",
    "        query = q[1]\n",
    "        scores = lm(query)\n",
    "        rank = ranking(scores)\n",
    "        for r in rank:\n",
    "            file.write(query_id)\n",
    "            file.write(\" \")\n",
    "            file.write(\"1\")\n",
    "            file.write(\" \")\n",
    "            file.write(str(r[0]))\n",
    "            file.write(\" \")\n",
    "            file.write(\"0\")\n",
    "            file.write(\" \")\n",
    "            file.write(str(r[1]))\n",
    "            file.write(\" \")\n",
    "            file.write(\"run1\")\n",
    "            file.write('\\n')\n"
   ]
  }
 ],
 "metadata": {
  "kernelspec": {
   "display_name": "Python 3",
   "language": "python",
   "name": "python3"
  },
  "language_info": {
   "codemirror_mode": {
    "name": "ipython",
    "version": 3
   },
   "file_extension": ".py",
   "mimetype": "text/x-python",
   "name": "python",
   "nbconvert_exporter": "python",
   "pygments_lexer": "ipython3",
   "version": "3.8.3"
  }
 },
 "nbformat": 4,
 "nbformat_minor": 4
}
