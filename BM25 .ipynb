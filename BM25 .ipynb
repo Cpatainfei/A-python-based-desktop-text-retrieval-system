{
 "cells": [
  {
   "cell_type": "markdown",
   "metadata": {},
   "source": [
    "## BM25 Ranking"
   ]
  },
  {
   "cell_type": "code",
   "execution_count": 1,
   "metadata": {},
   "outputs": [],
   "source": [
    "# Load query and documents, inverted index and vocabulary\n",
    "\n",
    "import json\n",
    "import math\n",
    "import time\n",
    "\n",
    "with open(\"queries\",'r') as file:\n",
    "    query_dic = json.load(file)\n",
    "\n",
    "with open(\"documents\",\"r\") as file:\n",
    "    document_dic = json.load(file)\n",
    "    \n",
    "with open(\"Inverted_index\",\"r\") as file:\n",
    "    Inverted_index = json.load(file)\n",
    "\n",
    "with open(\"vocabulary\",\"r\") as file:\n",
    "    vocabulary = file.readline()\n",
    "    vocabulary = vocabulary.split(\" \")"
   ]
  },
  {
   "cell_type": "code",
   "execution_count": 2,
   "metadata": {},
   "outputs": [],
   "source": [
    "# Compute frequency for a query in document\n",
    "\n",
    "def get_freq(query,document_id):\n",
    "    \n",
    "    doc = document_dic[document_id]  \n",
    "    c = list(doc).count(query)\n",
    "    freq = c/len(doc)\n",
    "    \n",
    "    return freq"
   ]
  },
  {
   "cell_type": "code",
   "execution_count": 3,
   "metadata": {},
   "outputs": [],
   "source": [
    "#　ger average document lengths\n",
    "\n",
    "def get_average(doc_dic):\n",
    "    \n",
    "    l = []\n",
    "    for i in doc_dic.values():\n",
    "        l.append(len(i))\n",
    "    av = sum(l)/len(l)\n",
    "    \n",
    "    return av"
   ]
  },
  {
   "cell_type": "markdown",
   "metadata": {},
   "source": [
    "Compute BM25 ranking score:\n",
    "\n",
    "(Assume that r = R = 0)"
   ]
  },
  {
   "cell_type": "code",
   "execution_count": 4,
   "metadata": {},
   "outputs": [],
   "source": [
    "R = 0\n",
    "k1 = 1.2\n",
    "b = 0.75\n",
    "\n",
    "\n",
    "def bm25_score(n,f,r,N,dl,avdl):\n",
    "    \n",
    "    w_rsj = math.log( ( (r + 0.5) / (R - r + 0.5) ) / ( (n - r + 0.5) / (N - n - R + r + 0.5)) )\n",
    "    B = (1-b) + b*dl/avdl\n",
    "    r = (f / (k1* B + f)) * w_rsj\n",
    "    \n",
    "    return r"
   ]
  },
  {
   "cell_type": "markdown",
   "metadata": {},
   "source": [
    "Get BM25 score:"
   ]
  },
  {
   "cell_type": "code",
   "execution_count": 5,
   "metadata": {},
   "outputs": [],
   "source": [
    "def bm25(query):\n",
    "    \n",
    "    result = {}\n",
    "    \n",
    "    for token in query:\n",
    "        if token in Inverted_index.keys():\n",
    "            # Get posting list\n",
    "            documents = Inverted_index[token]\n",
    "            for doc in documents:\n",
    "                freq = get_freq(token,doc)\n",
    "                N =len(document_dic.keys())\n",
    "                dl = len(document_dic[doc])\n",
    "                avdl = get_average(document_dic)\n",
    "                r = 0\n",
    "                # get bm25 ranking score\n",
    "                score = bm25_score(len(documents),freq,r,N,dl,avdl)\n",
    "                # this document has been socred by other tokens\n",
    "                if doc in result.keys():\n",
    "                    result[doc] += score\n",
    "                else:\n",
    "                    result[doc] = score\n",
    "                    \n",
    "    return result\n",
    "        "
   ]
  },
  {
   "cell_type": "markdown",
   "metadata": {},
   "source": [
    "Rank scores:"
   ]
  },
  {
   "cell_type": "code",
   "execution_count": 6,
   "metadata": {},
   "outputs": [],
   "source": [
    "# Ranking scores\n",
    "\n",
    "def ranking(score):\n",
    "    \n",
    "    result = {}\n",
    "    \n",
    "    rank = sorted(score.items(),key=lambda x:x[1], reverse=True)\n",
    "    \n",
    "    # return top 100 results\n",
    "    \n",
    "    count = 0\n",
    "    \n",
    "    for i in rank:\n",
    "        result[i[0]] = i[1]\n",
    "        count += 1\n",
    "        if count>100:\n",
    "            break\n",
    "\n",
    "    return result"
   ]
  },
  {
   "cell_type": "markdown",
   "metadata": {},
   "source": [
    "Output to result file:\n",
    "    \n",
    "(Note: this step may take quite long time to run, in may machine: 7 mins)"
   ]
  },
  {
   "cell_type": "code",
   "execution_count": null,
   "metadata": {},
   "outputs": [],
   "source": [
    "import time\n",
    "t1 = time.time()\n",
    "\n",
    "with open(\"output/result_bm25.txt\",\"w\") as file:\n",
    "    for q in query_dic.items():\n",
    "        query_id = q[0]\n",
    "        query = q[1]\n",
    "        scores = bm25(query)\n",
    "        rank = ranking(scores)\n",
    "        for r in rank.items():\n",
    "            file.write(query_id)\n",
    "            file.write(\" \")\n",
    "            file.write(\"1\")\n",
    "            file.write(\" \")\n",
    "            file.write(str(r[0]))\n",
    "            file.write(\" \")\n",
    "            file.write(\"0\")\n",
    "            file.write(\" \")\n",
    "            file.write(str(r[1]))\n",
    "            file.write(\" \")\n",
    "            file.write(\"run1\")\n",
    "            file.write('\\n')\n",
    "t2 = time.time()\n",
    "print(\"running time :(/mins)\", (t2-t1)/60)"
   ]
  },
  {
   "cell_type": "code",
   "execution_count": null,
   "metadata": {},
   "outputs": [],
   "source": []
  }
 ],
 "metadata": {
  "kernelspec": {
   "display_name": "Python 3",
   "language": "python",
   "name": "python3"
  },
  "language_info": {
   "codemirror_mode": {
    "name": "ipython",
    "version": 3
   },
   "file_extension": ".py",
   "mimetype": "text/x-python",
   "name": "python",
   "nbconvert_exporter": "python",
   "pygments_lexer": "ipython3",
   "version": "3.8.3"
  }
 },
 "nbformat": 4,
 "nbformat_minor": 4
}
